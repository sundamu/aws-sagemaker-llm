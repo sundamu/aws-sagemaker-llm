{
 "cells": [
  {
   "cell_type": "markdown",
   "id": "da8c354e-8b39-4c1a-a85e-bdfac041365a",
   "metadata": {},
   "source": [
    "# LMI vLLM Qwen3-32B vLLM deployment guide\n",
    "\n",
    "In this tutorial, you will use LMI container from DLC to SageMaker and run inference with it.\n",
    "\n",
    "Please make sure the following permission granted before running the notebook:\n",
    "\n",
    "- S3 bucket push access\n",
    "- SageMaker access\n",
    "\n",
    "## Step 1: Let's bump up SageMaker and import stuff"
   ]
  },
  {
   "cell_type": "code",
   "execution_count": 1,
   "id": "67fa3208",
   "metadata": {
    "tags": []
   },
   "outputs": [
    {
     "name": "stdout",
     "output_type": "stream",
     "text": [
      "Requirement already satisfied: sagemaker in /home/ec2-user/anaconda3/envs/pytorch_p310/lib/python3.10/site-packages (2.251.0)\n",
      "Requirement already satisfied: attrs<26,>=24 in /home/ec2-user/anaconda3/envs/pytorch_p310/lib/python3.10/site-packages (from sagemaker) (25.3.0)\n",
      "Requirement already satisfied: boto3<2.0,>=1.39.5 in /home/ec2-user/anaconda3/envs/pytorch_p310/lib/python3.10/site-packages (from sagemaker) (1.40.16)\n",
      "Requirement already satisfied: cloudpickle>=2.2.1 in /home/ec2-user/anaconda3/envs/pytorch_p310/lib/python3.10/site-packages (from sagemaker) (3.1.1)\n",
      "Requirement already satisfied: docker in /home/ec2-user/anaconda3/envs/pytorch_p310/lib/python3.10/site-packages (from sagemaker) (7.1.0)\n",
      "Requirement already satisfied: fastapi in /home/ec2-user/anaconda3/envs/pytorch_p310/lib/python3.10/site-packages (from sagemaker) (0.116.1)\n",
      "Requirement already satisfied: google-pasta in /home/ec2-user/anaconda3/envs/pytorch_p310/lib/python3.10/site-packages (from sagemaker) (0.2.0)\n",
      "Requirement already satisfied: graphene<4,>=3 in /home/ec2-user/anaconda3/envs/pytorch_p310/lib/python3.10/site-packages (from sagemaker) (3.4.3)\n",
      "Requirement already satisfied: importlib-metadata<7.0,>=1.4.0 in /home/ec2-user/anaconda3/envs/pytorch_p310/lib/python3.10/site-packages (from sagemaker) (6.11.0)\n",
      "Requirement already satisfied: jsonschema in /home/ec2-user/anaconda3/envs/pytorch_p310/lib/python3.10/site-packages (from sagemaker) (4.25.0)\n",
      "Requirement already satisfied: numpy==1.26.4 in /home/ec2-user/anaconda3/envs/pytorch_p310/lib/python3.10/site-packages (from sagemaker) (1.26.4)\n",
      "Requirement already satisfied: omegaconf<3,>=2.2 in /home/ec2-user/anaconda3/envs/pytorch_p310/lib/python3.10/site-packages (from sagemaker) (2.3.0)\n",
      "Requirement already satisfied: packaging<25,>=23.0 in /home/ec2-user/anaconda3/envs/pytorch_p310/lib/python3.10/site-packages (from sagemaker) (24.2)\n",
      "Requirement already satisfied: pandas in /home/ec2-user/anaconda3/envs/pytorch_p310/lib/python3.10/site-packages (from sagemaker) (2.3.1)\n",
      "Requirement already satisfied: pathos in /home/ec2-user/anaconda3/envs/pytorch_p310/lib/python3.10/site-packages (from sagemaker) (0.3.4)\n",
      "Requirement already satisfied: platformdirs in /home/ec2-user/anaconda3/envs/pytorch_p310/lib/python3.10/site-packages (from sagemaker) (4.3.8)\n",
      "Requirement already satisfied: protobuf<6.32,>=3.12 in /home/ec2-user/anaconda3/envs/pytorch_p310/lib/python3.10/site-packages (from sagemaker) (6.31.1)\n",
      "Requirement already satisfied: psutil in /home/ec2-user/anaconda3/envs/pytorch_p310/lib/python3.10/site-packages (from sagemaker) (6.1.1)\n",
      "Requirement already satisfied: pyyaml>=6.0.1 in /home/ec2-user/anaconda3/envs/pytorch_p310/lib/python3.10/site-packages (from sagemaker) (6.0.2)\n",
      "Requirement already satisfied: requests in /home/ec2-user/anaconda3/envs/pytorch_p310/lib/python3.10/site-packages (from sagemaker) (2.32.4)\n",
      "Requirement already satisfied: sagemaker-core<2.0.0,>=1.0.17 in /home/ec2-user/anaconda3/envs/pytorch_p310/lib/python3.10/site-packages (from sagemaker) (1.0.48)\n",
      "Requirement already satisfied: schema in /home/ec2-user/anaconda3/envs/pytorch_p310/lib/python3.10/site-packages (from sagemaker) (0.7.7)\n",
      "Requirement already satisfied: smdebug-rulesconfig==1.0.1 in /home/ec2-user/anaconda3/envs/pytorch_p310/lib/python3.10/site-packages (from sagemaker) (1.0.1)\n",
      "Requirement already satisfied: tblib<4,>=1.7.0 in /home/ec2-user/anaconda3/envs/pytorch_p310/lib/python3.10/site-packages (from sagemaker) (3.1.0)\n",
      "Requirement already satisfied: tqdm in /home/ec2-user/anaconda3/envs/pytorch_p310/lib/python3.10/site-packages (from sagemaker) (4.67.1)\n",
      "Requirement already satisfied: urllib3<3.0.0,>=1.26.8 in /home/ec2-user/anaconda3/envs/pytorch_p310/lib/python3.10/site-packages (from sagemaker) (2.5.0)\n",
      "Requirement already satisfied: uvicorn in /home/ec2-user/anaconda3/envs/pytorch_p310/lib/python3.10/site-packages (from sagemaker) (0.35.0)\n",
      "Requirement already satisfied: botocore<1.41.0,>=1.40.16 in /home/ec2-user/anaconda3/envs/pytorch_p310/lib/python3.10/site-packages (from boto3<2.0,>=1.39.5->sagemaker) (1.40.16)\n",
      "Requirement already satisfied: jmespath<2.0.0,>=0.7.1 in /home/ec2-user/anaconda3/envs/pytorch_p310/lib/python3.10/site-packages (from boto3<2.0,>=1.39.5->sagemaker) (1.0.1)\n",
      "Requirement already satisfied: s3transfer<0.14.0,>=0.13.0 in /home/ec2-user/anaconda3/envs/pytorch_p310/lib/python3.10/site-packages (from boto3<2.0,>=1.39.5->sagemaker) (0.13.1)\n",
      "Requirement already satisfied: python-dateutil<3.0.0,>=2.1 in /home/ec2-user/anaconda3/envs/pytorch_p310/lib/python3.10/site-packages (from botocore<1.41.0,>=1.40.16->boto3<2.0,>=1.39.5->sagemaker) (2.9.0)\n",
      "Requirement already satisfied: graphql-core<3.3,>=3.1 in /home/ec2-user/anaconda3/envs/pytorch_p310/lib/python3.10/site-packages (from graphene<4,>=3->sagemaker) (3.2.6)\n",
      "Requirement already satisfied: graphql-relay<3.3,>=3.1 in /home/ec2-user/anaconda3/envs/pytorch_p310/lib/python3.10/site-packages (from graphene<4,>=3->sagemaker) (3.2.0)\n",
      "Requirement already satisfied: typing-extensions<5,>=4.7.1 in /home/ec2-user/anaconda3/envs/pytorch_p310/lib/python3.10/site-packages (from graphene<4,>=3->sagemaker) (4.14.1)\n",
      "Requirement already satisfied: zipp>=0.5 in /home/ec2-user/anaconda3/envs/pytorch_p310/lib/python3.10/site-packages (from importlib-metadata<7.0,>=1.4.0->sagemaker) (3.23.0)\n",
      "Requirement already satisfied: antlr4-python3-runtime==4.9.* in /home/ec2-user/anaconda3/envs/pytorch_p310/lib/python3.10/site-packages (from omegaconf<3,>=2.2->sagemaker) (4.9.3)\n",
      "Requirement already satisfied: six>=1.5 in /home/ec2-user/anaconda3/envs/pytorch_p310/lib/python3.10/site-packages (from python-dateutil<3.0.0,>=2.1->botocore<1.41.0,>=1.40.16->boto3<2.0,>=1.39.5->sagemaker) (1.17.0)\n",
      "Requirement already satisfied: pydantic<3.0.0,>=2.0.0 in /home/ec2-user/anaconda3/envs/pytorch_p310/lib/python3.10/site-packages (from sagemaker-core<2.0.0,>=1.0.17->sagemaker) (2.9.2)\n",
      "Requirement already satisfied: rich<15.0.0,>=13.0.0 in /home/ec2-user/anaconda3/envs/pytorch_p310/lib/python3.10/site-packages (from sagemaker-core<2.0.0,>=1.0.17->sagemaker) (14.1.0)\n",
      "Requirement already satisfied: mock<5.0,>4.0 in /home/ec2-user/anaconda3/envs/pytorch_p310/lib/python3.10/site-packages (from sagemaker-core<2.0.0,>=1.0.17->sagemaker) (4.0.3)\n",
      "Requirement already satisfied: jsonschema-specifications>=2023.03.6 in /home/ec2-user/anaconda3/envs/pytorch_p310/lib/python3.10/site-packages (from jsonschema->sagemaker) (2025.4.1)\n",
      "Requirement already satisfied: referencing>=0.28.4 in /home/ec2-user/anaconda3/envs/pytorch_p310/lib/python3.10/site-packages (from jsonschema->sagemaker) (0.36.2)\n",
      "Requirement already satisfied: rpds-py>=0.7.1 in /home/ec2-user/anaconda3/envs/pytorch_p310/lib/python3.10/site-packages (from jsonschema->sagemaker) (0.26.0)\n",
      "Requirement already satisfied: annotated-types>=0.6.0 in /home/ec2-user/anaconda3/envs/pytorch_p310/lib/python3.10/site-packages (from pydantic<3.0.0,>=2.0.0->sagemaker-core<2.0.0,>=1.0.17->sagemaker) (0.7.0)\n",
      "Requirement already satisfied: pydantic-core==2.23.4 in /home/ec2-user/anaconda3/envs/pytorch_p310/lib/python3.10/site-packages (from pydantic<3.0.0,>=2.0.0->sagemaker-core<2.0.0,>=1.0.17->sagemaker) (2.23.4)\n",
      "Requirement already satisfied: markdown-it-py>=2.2.0 in /home/ec2-user/anaconda3/envs/pytorch_p310/lib/python3.10/site-packages (from rich<15.0.0,>=13.0.0->sagemaker-core<2.0.0,>=1.0.17->sagemaker) (3.0.0)\n",
      "Requirement already satisfied: pygments<3.0.0,>=2.13.0 in /home/ec2-user/anaconda3/envs/pytorch_p310/lib/python3.10/site-packages (from rich<15.0.0,>=13.0.0->sagemaker-core<2.0.0,>=1.0.17->sagemaker) (2.19.2)\n",
      "Requirement already satisfied: mdurl~=0.1 in /home/ec2-user/anaconda3/envs/pytorch_p310/lib/python3.10/site-packages (from markdown-it-py>=2.2.0->rich<15.0.0,>=13.0.0->sagemaker-core<2.0.0,>=1.0.17->sagemaker) (0.1.2)\n",
      "Requirement already satisfied: charset_normalizer<4,>=2 in /home/ec2-user/anaconda3/envs/pytorch_p310/lib/python3.10/site-packages (from requests->sagemaker) (3.4.2)\n",
      "Requirement already satisfied: idna<4,>=2.5 in /home/ec2-user/anaconda3/envs/pytorch_p310/lib/python3.10/site-packages (from requests->sagemaker) (3.10)\n",
      "Requirement already satisfied: certifi>=2017.4.17 in /home/ec2-user/anaconda3/envs/pytorch_p310/lib/python3.10/site-packages (from requests->sagemaker) (2025.8.3)\n",
      "Requirement already satisfied: starlette<0.48.0,>=0.40.0 in /home/ec2-user/anaconda3/envs/pytorch_p310/lib/python3.10/site-packages (from fastapi->sagemaker) (0.47.2)\n",
      "Requirement already satisfied: anyio<5,>=3.6.2 in /home/ec2-user/anaconda3/envs/pytorch_p310/lib/python3.10/site-packages (from starlette<0.48.0,>=0.40.0->fastapi->sagemaker) (4.10.0)\n",
      "Requirement already satisfied: exceptiongroup>=1.0.2 in /home/ec2-user/anaconda3/envs/pytorch_p310/lib/python3.10/site-packages (from anyio<5,>=3.6.2->starlette<0.48.0,>=0.40.0->fastapi->sagemaker) (1.3.0)\n",
      "Requirement already satisfied: sniffio>=1.1 in /home/ec2-user/anaconda3/envs/pytorch_p310/lib/python3.10/site-packages (from anyio<5,>=3.6.2->starlette<0.48.0,>=0.40.0->fastapi->sagemaker) (1.3.1)\n",
      "Requirement already satisfied: pytz>=2020.1 in /home/ec2-user/anaconda3/envs/pytorch_p310/lib/python3.10/site-packages (from pandas->sagemaker) (2025.2)\n",
      "Requirement already satisfied: tzdata>=2022.7 in /home/ec2-user/anaconda3/envs/pytorch_p310/lib/python3.10/site-packages (from pandas->sagemaker) (2025.2)\n",
      "Requirement already satisfied: ppft>=1.7.7 in /home/ec2-user/anaconda3/envs/pytorch_p310/lib/python3.10/site-packages (from pathos->sagemaker) (1.7.7)\n",
      "Requirement already satisfied: dill>=0.4.0 in /home/ec2-user/anaconda3/envs/pytorch_p310/lib/python3.10/site-packages (from pathos->sagemaker) (0.4.0)\n",
      "Requirement already satisfied: pox>=0.3.6 in /home/ec2-user/anaconda3/envs/pytorch_p310/lib/python3.10/site-packages (from pathos->sagemaker) (0.3.6)\n",
      "Requirement already satisfied: multiprocess>=0.70.18 in /home/ec2-user/anaconda3/envs/pytorch_p310/lib/python3.10/site-packages (from pathos->sagemaker) (0.70.18)\n",
      "Requirement already satisfied: click>=7.0 in /home/ec2-user/anaconda3/envs/pytorch_p310/lib/python3.10/site-packages (from uvicorn->sagemaker) (8.2.1)\n",
      "Requirement already satisfied: h11>=0.8 in /home/ec2-user/anaconda3/envs/pytorch_p310/lib/python3.10/site-packages (from uvicorn->sagemaker) (0.16.0)\n",
      "Note: you may need to restart the kernel to use updated packages.\n"
     ]
    }
   ],
   "source": [
    "%pip install -U sagemaker"
   ]
  },
  {
   "cell_type": "code",
   "execution_count": 38,
   "id": "ec9ac353",
   "metadata": {
    "tags": []
   },
   "outputs": [],
   "source": [
    "import os\n",
    "from pathlib import Path\n",
    "import boto3\n",
    "import sagemaker\n",
    "from sagemaker import Model, image_uris, serializers, deserializers\n",
    "\n",
    "role = sagemaker.get_execution_role()  # execution role for the endpoint\n",
    "sess = sagemaker.session.Session()  # sagemaker session for interacting with different AWS APIs\n",
    "region = sess._region_name  # region name of the current SageMaker Studio environment\n",
    "account_id = sess.account_id()  # account_id of the current SageMaker Studio environment\n",
    "sagemaker_default_bucket = sess.default_bucket()"
   ]
  },
  {
   "cell_type": "markdown",
   "id": "81deac79",
   "metadata": {},
   "source": [
    "## Step 2: Start preparing model artifacts\n",
    "In LMI contianer, we expect some artifacts to help setting up the model\n",
    "- serving.properties (required): Defines the model server settings\n",
    "- model.py (optional): A python file to define the core inference logic\n",
    "- requirements.txt (optional): Any additional pip wheel need to install"
   ]
  },
  {
   "cell_type": "code",
   "execution_count": 39,
   "id": "31831062-6df7-42f5-9069-b52408695c62",
   "metadata": {
    "tags": []
   },
   "outputs": [],
   "source": [
    "model_name=\"Qwen/Qwen3-32B\"\n",
    "\n",
    "model_lineage=model_name.split(\"/\")[0]\n",
    "model_specific_name = model_name.split(\"/\")[1]"
   ]
  },
  {
   "cell_type": "markdown",
   "id": "6d85d2de-c7bf-48f8-b3e8-b71481f4091d",
   "metadata": {},
   "source": [
    "### Download model and upload to S3\n",
    "\n",
    "1. Download model from Hugging face\n",
    "2. Upload model to S3 Bucket\n",
    "3. Write serving.properties using s3url"
   ]
  },
  {
   "cell_type": "code",
   "execution_count": 22,
   "id": "58eba4e6",
   "metadata": {
    "tags": []
   },
   "outputs": [
    {
     "name": "stdout",
     "output_type": "stream",
     "text": [
      "Requirement already satisfied: huggingface_hub in /home/ec2-user/anaconda3/envs/pytorch_p310/lib/python3.10/site-packages (0.34.4)\n",
      "Requirement already satisfied: filelock in /home/ec2-user/anaconda3/envs/pytorch_p310/lib/python3.10/site-packages (from huggingface_hub) (3.16.1)\n",
      "Requirement already satisfied: fsspec>=2023.5.0 in /home/ec2-user/anaconda3/envs/pytorch_p310/lib/python3.10/site-packages (from huggingface_hub) (2025.7.0)\n",
      "Requirement already satisfied: packaging>=20.9 in /home/ec2-user/anaconda3/envs/pytorch_p310/lib/python3.10/site-packages (from huggingface_hub) (24.2)\n",
      "Requirement already satisfied: pyyaml>=5.1 in /home/ec2-user/anaconda3/envs/pytorch_p310/lib/python3.10/site-packages (from huggingface_hub) (6.0.2)\n",
      "Requirement already satisfied: requests in /home/ec2-user/anaconda3/envs/pytorch_p310/lib/python3.10/site-packages (from huggingface_hub) (2.32.4)\n",
      "Requirement already satisfied: tqdm>=4.42.1 in /home/ec2-user/anaconda3/envs/pytorch_p310/lib/python3.10/site-packages (from huggingface_hub) (4.67.1)\n",
      "Requirement already satisfied: typing-extensions>=3.7.4.3 in /home/ec2-user/anaconda3/envs/pytorch_p310/lib/python3.10/site-packages (from huggingface_hub) (4.14.1)\n",
      "Requirement already satisfied: hf-xet<2.0.0,>=1.1.3 in /home/ec2-user/anaconda3/envs/pytorch_p310/lib/python3.10/site-packages (from huggingface_hub) (1.1.9)\n",
      "Requirement already satisfied: charset_normalizer<4,>=2 in /home/ec2-user/anaconda3/envs/pytorch_p310/lib/python3.10/site-packages (from requests->huggingface_hub) (3.4.2)\n",
      "Requirement already satisfied: idna<4,>=2.5 in /home/ec2-user/anaconda3/envs/pytorch_p310/lib/python3.10/site-packages (from requests->huggingface_hub) (3.10)\n",
      "Requirement already satisfied: urllib3<3,>=1.21.1 in /home/ec2-user/anaconda3/envs/pytorch_p310/lib/python3.10/site-packages (from requests->huggingface_hub) (2.5.0)\n",
      "Requirement already satisfied: certifi>=2017.4.17 in /home/ec2-user/anaconda3/envs/pytorch_p310/lib/python3.10/site-packages (from requests->huggingface_hub) (2025.8.3)\n"
     ]
    }
   ],
   "source": [
    "!pip install -U huggingface_hub"
   ]
  },
  {
   "cell_type": "code",
   "execution_count": 23,
   "id": "36fbcec8-d3b2-48d7-967b-0439760e83c8",
   "metadata": {
    "tags": []
   },
   "outputs": [],
   "source": [
    "# Uncomment this for China Region\n",
    "# os.environ['HF_ENDPOINT'] = 'https://hf-mirror.com'"
   ]
  },
  {
   "cell_type": "code",
   "execution_count": 40,
   "id": "b92d4461-407d-4984-9e45-eb5be0c5b736",
   "metadata": {
    "tags": []
   },
   "outputs": [
    {
     "name": "stdout",
     "output_type": "stream",
     "text": [
      "s3://sagemaker-us-west-2-831762732388/lmi/Qwen3-32B\n",
      "huggingface-cli download --resume-download Qwen/Qwen3-32B --local-dir Qwen3-32B\n"
     ]
    }
   ],
   "source": [
    "local_model_path_name = model_name.split(\"/\")[-1]\n",
    "local_model_path = Path(local_model_path_name)\n",
    "local_model_path.mkdir(exist_ok=True)\n",
    "\n",
    "s3_model_prefix = f\"lmi/{local_model_path_name}\"\n",
    "s3url=f\"s3://{sagemaker_default_bucket}/{s3_model_prefix}\"\n",
    "print(s3url)\n",
    "print(f\"huggingface-cli download --resume-download {model_name} --local-dir {local_model_path}\")"
   ]
  },
  {
   "cell_type": "code",
   "execution_count": 26,
   "id": "23d9e24c-c09f-478b-ae12-6c3b79b7df16",
   "metadata": {
    "scrolled": true,
    "tags": []
   },
   "outputs": [
    {
     "name": "stdout",
     "output_type": "stream",
     "text": [
      "\u001b[33m⚠️  Warning: 'huggingface-cli download' is deprecated. Use 'hf download' instead.\u001b[0m\n",
      "/home/ec2-user/anaconda3/envs/pytorch_p310/lib/python3.10/site-packages/huggingface_hub/file_download.py:945: FutureWarning: `resume_download` is deprecated and will be removed in version 1.0.0. Downloads always resume when possible. If you want to force a new download, use `force_download=True`.\n",
      "  warnings.warn(\n",
      "Fetching 27 files: 100%|██████████████████████| 27/27 [00:00<00:00, 2747.29it/s]\n",
      "/home/ec2-user/SageMaker/Qwen3-32B\n"
     ]
    }
   ],
   "source": [
    "!huggingface-cli download --resume-download {model_name} --local-dir {local_model_path}"
   ]
  },
  {
   "cell_type": "code",
   "execution_count": 27,
   "id": "240e33b9-3af3-4232-b4b4-692b515d0a9c",
   "metadata": {},
   "outputs": [
    {
     "name": "stdout",
     "output_type": "stream",
     "text": [
      "!aws s3 cp Qwen3-32B s3://sagemaker-us-west-2-831762732388/lmi/Qwen3-32B --recursive\n",
      "upload: Qwen3-32B/.cache/huggingface/.gitignore to s3://sagemaker-us-west-2-831762732388/lmi/Qwen3-32B/.cache/huggingface/.gitignore\n",
      "upload: Qwen3-32B/.cache/huggingface/download/.gitattributes.metadata to s3://sagemaker-us-west-2-831762732388/lmi/Qwen3-32B/.cache/huggingface/download/.gitattributes.metadata\n",
      "upload: Qwen3-32B/.cache/huggingface/download/LICENSE.lock to s3://sagemaker-us-west-2-831762732388/lmi/Qwen3-32B/.cache/huggingface/download/LICENSE.lock\n",
      "upload: Qwen3-32B/.cache/huggingface/download/README.md.lock to s3://sagemaker-us-west-2-831762732388/lmi/Qwen3-32B/.cache/huggingface/download/README.md.lock\n",
      "upload: Qwen3-32B/.cache/huggingface/download/LICENSE.metadata to s3://sagemaker-us-west-2-831762732388/lmi/Qwen3-32B/.cache/huggingface/download/LICENSE.metadata\n",
      "upload: Qwen3-32B/.cache/huggingface/download/generation_config.json.metadata to s3://sagemaker-us-west-2-831762732388/lmi/Qwen3-32B/.cache/huggingface/download/generation_config.json.metadata\n",
      "upload: Qwen3-32B/.cache/huggingface/download/merges.txt.metadata to s3://sagemaker-us-west-2-831762732388/lmi/Qwen3-32B/.cache/huggingface/download/merges.txt.metadata\n",
      "upload: Qwen3-32B/.cache/huggingface/download/config.json.lock to s3://sagemaker-us-west-2-831762732388/lmi/Qwen3-32B/.cache/huggingface/download/config.json.lock\n",
      "upload: Qwen3-32B/.cache/huggingface/download/generation_config.json.lock to s3://sagemaker-us-west-2-831762732388/lmi/Qwen3-32B/.cache/huggingface/download/generation_config.json.lock\n",
      "upload: Qwen3-32B/.cache/huggingface/download/config.json.metadata to s3://sagemaker-us-west-2-831762732388/lmi/Qwen3-32B/.cache/huggingface/download/config.json.metadata\n",
      "upload: Qwen3-32B/.cache/huggingface/download/.gitattributes.lock to s3://sagemaker-us-west-2-831762732388/lmi/Qwen3-32B/.cache/huggingface/download/.gitattributes.lock\n",
      "upload: Qwen3-32B/.cache/huggingface/download/merges.txt.lock to s3://sagemaker-us-west-2-831762732388/lmi/Qwen3-32B/.cache/huggingface/download/merges.txt.lock\n",
      "upload: Qwen3-32B/.cache/huggingface/download/model-00001-of-00017.safetensors.metadata to s3://sagemaker-us-west-2-831762732388/lmi/Qwen3-32B/.cache/huggingface/download/model-00001-of-00017.safetensors.metadata\n",
      "upload: Qwen3-32B/.cache/huggingface/download/model-00001-of-00017.safetensors.lock to s3://sagemaker-us-west-2-831762732388/lmi/Qwen3-32B/.cache/huggingface/download/model-00001-of-00017.safetensors.lock\n",
      "upload: Qwen3-32B/.cache/huggingface/download/model-00005-of-00017.safetensors.metadata to s3://sagemaker-us-west-2-831762732388/lmi/Qwen3-32B/.cache/huggingface/download/model-00005-of-00017.safetensors.metadata\n",
      "upload: Qwen3-32B/.cache/huggingface/download/model-00004-of-00017.safetensors.metadata to s3://sagemaker-us-west-2-831762732388/lmi/Qwen3-32B/.cache/huggingface/download/model-00004-of-00017.safetensors.metadata\n",
      "upload: Qwen3-32B/.cache/huggingface/download/model-00007-of-00017.safetensors.lock to s3://sagemaker-us-west-2-831762732388/lmi/Qwen3-32B/.cache/huggingface/download/model-00007-of-00017.safetensors.lock\n",
      "upload: Qwen3-32B/.cache/huggingface/download/model-00003-of-00017.safetensors.metadata to s3://sagemaker-us-west-2-831762732388/lmi/Qwen3-32B/.cache/huggingface/download/model-00003-of-00017.safetensors.metadata\n",
      "upload: Qwen3-32B/.cache/huggingface/download/model-00002-of-00017.safetensors.metadata to s3://sagemaker-us-west-2-831762732388/lmi/Qwen3-32B/.cache/huggingface/download/model-00002-of-00017.safetensors.metadata\n",
      "upload: Qwen3-32B/.cache/huggingface/download/README.md.metadata to s3://sagemaker-us-west-2-831762732388/lmi/Qwen3-32B/.cache/huggingface/download/README.md.metadata\n",
      "upload: Qwen3-32B/.cache/huggingface/download/model-00006-of-00017.safetensors.lock to s3://sagemaker-us-west-2-831762732388/lmi/Qwen3-32B/.cache/huggingface/download/model-00006-of-00017.safetensors.lock\n",
      "upload: Qwen3-32B/.cache/huggingface/download/model-00006-of-00017.safetensors.metadata to s3://sagemaker-us-west-2-831762732388/lmi/Qwen3-32B/.cache/huggingface/download/model-00006-of-00017.safetensors.metadata\n",
      "upload: Qwen3-32B/.cache/huggingface/download/model-00005-of-00017.safetensors.lock to s3://sagemaker-us-west-2-831762732388/lmi/Qwen3-32B/.cache/huggingface/download/model-00005-of-00017.safetensors.lock\n",
      "upload: Qwen3-32B/.cache/huggingface/download/model-00002-of-00017.safetensors.lock to s3://sagemaker-us-west-2-831762732388/lmi/Qwen3-32B/.cache/huggingface/download/model-00002-of-00017.safetensors.lock\n",
      "upload: Qwen3-32B/.cache/huggingface/download/model-00007-of-00017.safetensors.metadata to s3://sagemaker-us-west-2-831762732388/lmi/Qwen3-32B/.cache/huggingface/download/model-00007-of-00017.safetensors.metadata\n",
      "upload: Qwen3-32B/.cache/huggingface/download/model-00010-of-00017.safetensors.metadata to s3://sagemaker-us-west-2-831762732388/lmi/Qwen3-32B/.cache/huggingface/download/model-00010-of-00017.safetensors.metadata\n",
      "upload: Qwen3-32B/.cache/huggingface/download/model-00003-of-00017.safetensors.lock to s3://sagemaker-us-west-2-831762732388/lmi/Qwen3-32B/.cache/huggingface/download/model-00003-of-00017.safetensors.lock\n",
      "upload: Qwen3-32B/.cache/huggingface/download/model-00008-of-00017.safetensors.metadata to s3://sagemaker-us-west-2-831762732388/lmi/Qwen3-32B/.cache/huggingface/download/model-00008-of-00017.safetensors.metadata\n",
      "upload: Qwen3-32B/.cache/huggingface/download/model-00004-of-00017.safetensors.lock to s3://sagemaker-us-west-2-831762732388/lmi/Qwen3-32B/.cache/huggingface/download/model-00004-of-00017.safetensors.lock\n",
      "upload: Qwen3-32B/.cache/huggingface/download/model-00011-of-00017.safetensors.lock to s3://sagemaker-us-west-2-831762732388/lmi/Qwen3-32B/.cache/huggingface/download/model-00011-of-00017.safetensors.lock\n",
      "upload: Qwen3-32B/.cache/huggingface/download/model-00009-of-00017.safetensors.metadata to s3://sagemaker-us-west-2-831762732388/lmi/Qwen3-32B/.cache/huggingface/download/model-00009-of-00017.safetensors.metadata\n",
      "upload: Qwen3-32B/.cache/huggingface/download/model-00008-of-00017.safetensors.lock to s3://sagemaker-us-west-2-831762732388/lmi/Qwen3-32B/.cache/huggingface/download/model-00008-of-00017.safetensors.lock\n",
      "upload: Qwen3-32B/.cache/huggingface/download/model-00010-of-00017.safetensors.lock to s3://sagemaker-us-west-2-831762732388/lmi/Qwen3-32B/.cache/huggingface/download/model-00010-of-00017.safetensors.lock\n",
      "upload: Qwen3-32B/.cache/huggingface/download/model-00009-of-00017.safetensors.lock to s3://sagemaker-us-west-2-831762732388/lmi/Qwen3-32B/.cache/huggingface/download/model-00009-of-00017.safetensors.lock\n",
      "upload: Qwen3-32B/.cache/huggingface/download/model-00014-of-00017.safetensors.lock to s3://sagemaker-us-west-2-831762732388/lmi/Qwen3-32B/.cache/huggingface/download/model-00014-of-00017.safetensors.lock\n",
      "upload: Qwen3-32B/.cache/huggingface/download/model-00011-of-00017.safetensors.metadata to s3://sagemaker-us-west-2-831762732388/lmi/Qwen3-32B/.cache/huggingface/download/model-00011-of-00017.safetensors.metadata\n",
      "upload: Qwen3-32B/.cache/huggingface/download/model-00013-of-00017.safetensors.metadata to s3://sagemaker-us-west-2-831762732388/lmi/Qwen3-32B/.cache/huggingface/download/model-00013-of-00017.safetensors.metadata\n",
      "upload: Qwen3-32B/.cache/huggingface/download/model-00015-of-00017.safetensors.metadata to s3://sagemaker-us-west-2-831762732388/lmi/Qwen3-32B/.cache/huggingface/download/model-00015-of-00017.safetensors.metadata\n",
      "upload: Qwen3-32B/.cache/huggingface/download/model-00015-of-00017.safetensors.lock to s3://sagemaker-us-west-2-831762732388/lmi/Qwen3-32B/.cache/huggingface/download/model-00015-of-00017.safetensors.lock\n",
      "upload: Qwen3-32B/.cache/huggingface/download/model-00012-of-00017.safetensors.lock to s3://sagemaker-us-west-2-831762732388/lmi/Qwen3-32B/.cache/huggingface/download/model-00012-of-00017.safetensors.lock\n",
      "upload: Qwen3-32B/.cache/huggingface/download/model-00016-of-00017.safetensors.lock to s3://sagemaker-us-west-2-831762732388/lmi/Qwen3-32B/.cache/huggingface/download/model-00016-of-00017.safetensors.lock\n",
      "upload: Qwen3-32B/.cache/huggingface/download/model-00014-of-00017.safetensors.metadata to s3://sagemaker-us-west-2-831762732388/lmi/Qwen3-32B/.cache/huggingface/download/model-00014-of-00017.safetensors.metadata\n",
      "upload: Qwen3-32B/.cache/huggingface/download/model-00017-of-00017.safetensors.metadata to s3://sagemaker-us-west-2-831762732388/lmi/Qwen3-32B/.cache/huggingface/download/model-00017-of-00017.safetensors.metadata\n",
      "upload: Qwen3-32B/.cache/huggingface/download/model-00013-of-00017.safetensors.lock to s3://sagemaker-us-west-2-831762732388/lmi/Qwen3-32B/.cache/huggingface/download/model-00013-of-00017.safetensors.lock\n",
      "upload: Qwen3-32B/.cache/huggingface/download/model.safetensors.index.json.metadata to s3://sagemaker-us-west-2-831762732388/lmi/Qwen3-32B/.cache/huggingface/download/model.safetensors.index.json.metadata\n",
      "upload: Qwen3-32B/.cache/huggingface/download/tokenizer.json.lock to s3://sagemaker-us-west-2-831762732388/lmi/Qwen3-32B/.cache/huggingface/download/tokenizer.json.lock\n",
      "upload: Qwen3-32B/.cache/huggingface/download/model-00017-of-00017.safetensors.lock to s3://sagemaker-us-west-2-831762732388/lmi/Qwen3-32B/.cache/huggingface/download/model-00017-of-00017.safetensors.lock\n",
      "upload: Qwen3-32B/.cache/huggingface/download/model.safetensors.index.json.lock to s3://sagemaker-us-west-2-831762732388/lmi/Qwen3-32B/.cache/huggingface/download/model.safetensors.index.json.lock\n",
      "upload: Qwen3-32B/.cache/huggingface/download/tokenizer.json.metadata to s3://sagemaker-us-west-2-831762732388/lmi/Qwen3-32B/.cache/huggingface/download/tokenizer.json.metadata\n",
      "upload: Qwen3-32B/.cache/huggingface/download/model-00016-of-00017.safetensors.metadata to s3://sagemaker-us-west-2-831762732388/lmi/Qwen3-32B/.cache/huggingface/download/model-00016-of-00017.safetensors.metadata\n",
      "upload: Qwen3-32B/.cache/huggingface/download/tokenizer_config.json.metadata to s3://sagemaker-us-west-2-831762732388/lmi/Qwen3-32B/.cache/huggingface/download/tokenizer_config.json.metadata\n",
      "upload: Qwen3-32B/.cache/huggingface/download/model-00012-of-00017.safetensors.metadata to s3://sagemaker-us-west-2-831762732388/lmi/Qwen3-32B/.cache/huggingface/download/model-00012-of-00017.safetensors.metadata\n",
      "upload: Qwen3-32B/.cache/huggingface/download/tokenizer_config.json.lock to s3://sagemaker-us-west-2-831762732388/lmi/Qwen3-32B/.cache/huggingface/download/tokenizer_config.json.lock\n",
      "upload: Qwen3-32B/.cache/huggingface/download/vocab.json.lock to s3://sagemaker-us-west-2-831762732388/lmi/Qwen3-32B/.cache/huggingface/download/vocab.json.lock\n",
      "upload: Qwen3-32B/.cache/huggingface/download/vocab.json.metadata to s3://sagemaker-us-west-2-831762732388/lmi/Qwen3-32B/.cache/huggingface/download/vocab.json.metadata\n",
      "upload: Qwen3-32B/LICENSE to s3://sagemaker-us-west-2-831762732388/lmi/Qwen3-32B/LICENSE\n",
      "upload: Qwen3-32B/.gitattributes to s3://sagemaker-us-west-2-831762732388/lmi/Qwen3-32B/.gitattributes\n",
      "upload: Qwen3-32B/config.json to s3://sagemaker-us-west-2-831762732388/lmi/Qwen3-32B/config.json\n",
      "upload: Qwen3-32B/generation_config.json to s3://sagemaker-us-west-2-831762732388/lmi/Qwen3-32B/generation_config.json\n",
      "upload: Qwen3-32B/README.md to s3://sagemaker-us-west-2-831762732388/lmi/Qwen3-32B/README.md\n",
      "upload: Qwen3-32B/merges.txt to s3://sagemaker-us-west-2-831762732388/lmi/Qwen3-32B/merges.txt\n",
      "upload: Qwen3-32B/model-00005-of-00017.safetensors to s3://sagemaker-us-west-2-831762732388/lmi/Qwen3-32B/model-00005-of-00017.safetensors\n",
      "upload: Qwen3-32B/model-00002-of-00017.safetensors to s3://sagemaker-us-west-2-831762732388/lmi/Qwen3-32B/model-00002-of-00017.safetensors\n",
      "upload: Qwen3-32B/model-00001-of-00017.safetensors to s3://sagemaker-us-west-2-831762732388/lmi/Qwen3-32B/model-00001-of-00017.safetensors\n",
      "upload: Qwen3-32B/model-00004-of-00017.safetensors to s3://sagemaker-us-west-2-831762732388/lmi/Qwen3-32B/model-00004-of-00017.safetensors\n",
      "upload: Qwen3-32B/model-00003-of-00017.safetensors to s3://sagemaker-us-west-2-831762732388/lmi/Qwen3-32B/model-00003-of-00017.safetensors\n",
      "upload: Qwen3-32B/model-00006-of-00017.safetensors to s3://sagemaker-us-west-2-831762732388/lmi/Qwen3-32B/model-00006-of-00017.safetensors\n",
      "upload: Qwen3-32B/model-00009-of-00017.safetensors to s3://sagemaker-us-west-2-831762732388/lmi/Qwen3-32B/model-00009-of-00017.safetensors\n",
      "upload: Qwen3-32B/model-00007-of-00017.safetensors to s3://sagemaker-us-west-2-831762732388/lmi/Qwen3-32B/model-00007-of-00017.safetensors\n",
      "upload: Qwen3-32B/model-00008-of-00017.safetensors to s3://sagemaker-us-west-2-831762732388/lmi/Qwen3-32B/model-00008-of-00017.safetensors\n",
      "upload: Qwen3-32B/model-00010-of-00017.safetensors to s3://sagemaker-us-west-2-831762732388/lmi/Qwen3-32B/model-00010-of-00017.safetensors\n",
      "upload: Qwen3-32B/model-00011-of-00017.safetensors to s3://sagemaker-us-west-2-831762732388/lmi/Qwen3-32B/model-00011-of-00017.safetensors\n",
      "upload: Qwen3-32B/model-00013-of-00017.safetensors to s3://sagemaker-us-west-2-831762732388/lmi/Qwen3-32B/model-00013-of-00017.safetensors\n",
      "upload: Qwen3-32B/model.safetensors.index.json to s3://sagemaker-us-west-2-831762732388/lmi/Qwen3-32B/model.safetensors.index.json\n",
      "upload: Qwen3-32B/tokenizer_config.json to s3://sagemaker-us-west-2-831762732388/lmi/Qwen3-32B/tokenizer_config.json\n",
      "upload: Qwen3-32B/model-00014-of-00017.safetensors to s3://sagemaker-us-west-2-831762732388/lmi/Qwen3-32B/model-00014-of-00017.safetensors\n",
      "upload: Qwen3-32B/tokenizer.json to s3://sagemaker-us-west-2-831762732388/lmi/Qwen3-32B/tokenizer.json\n",
      "upload: Qwen3-32B/vocab.json to s3://sagemaker-us-west-2-831762732388/lmi/Qwen3-32B/vocab.json\n",
      "upload: Qwen3-32B/model-00012-of-00017.safetensors to s3://sagemaker-us-west-2-831762732388/lmi/Qwen3-32B/model-00012-of-00017.safetensors\n",
      "upload: Qwen3-32B/model-00015-of-00017.safetensors to s3://sagemaker-us-west-2-831762732388/lmi/Qwen3-32B/model-00015-of-00017.safetensors\n",
      "upload: Qwen3-32B/model-00017-of-00017.safetensors to s3://sagemaker-us-west-2-831762732388/lmi/Qwen3-32B/model-00017-of-00017.safetensors\n",
      "upload: Qwen3-32B/model-00016-of-00017.safetensors to s3://sagemaker-us-west-2-831762732388/lmi/Qwen3-32B/model-00016-of-00017.safetensors\n"
     ]
    }
   ],
   "source": [
    "# Upload model to S3\n",
    "print(f\"!aws s3 cp {local_model_path} {s3url} --recursive\")\n",
    "!aws s3 cp {local_model_path} {s3url} --recursive"
   ]
  },
  {
   "cell_type": "markdown",
   "id": "7887f5b6-95e8-4e90-9c2c-3df19438fb0f",
   "metadata": {},
   "source": [
    "### Compress model artifacts"
   ]
  },
  {
   "cell_type": "code",
   "execution_count": 41,
   "id": "3d917099-af28-491a-945d-edc71cec1858",
   "metadata": {
    "tags": []
   },
   "outputs": [],
   "source": [
    "with open(\"serving.properties\", \"w\") as wf:\n",
    "    wf.write(f\"\"\"\n",
    "engine=Python\n",
    "#option.entryPoint=djl_python.lmi_vllm.vllm_async_service\n",
    "option.model_id={s3url}\n",
    "#option.async_mode=true\n",
    "option.tensor_parallel_degree=8\n",
    "option.rolling_batch=disable\n",
    "option.max_rolling_batch_size=8\n",
    "option.gpu_memory_utilization=0.9\n",
    "option.enable_auto_tool_choice=true\n",
    "option.tool_call_parser=hermes\n",
    "option.async_mode=true\n",
    "option.entryPoint=djl_python.lmi_vllm.vllm_async_service\n",

    "\"\"\")"
   ]
  },
  {
   "cell_type": "code",
   "execution_count": 42,
   "id": "8472797a-47b2-4ab8-bf28-3a2c0dc06591",
   "metadata": {},
   "outputs": [
    {
     "name": "stdout",
     "output_type": "stream",
     "text": [
      "Writing requirements.txt\n"
     ]
    }
   ],
   "source": [
    "%%writefile requirements.txt\n",
    "vllm==0.8.5"
   ]
  },
  {
   "cell_type": "code",
   "execution_count": 43,
   "id": "b0142973",
   "metadata": {
    "tags": []
   },
   "outputs": [
    {
     "name": "stdout",
     "output_type": "stream",
     "text": [
      "mymodel/\n",
      "mymodel/requirements.txt\n",
      "mymodel/serving.properties\n"
     ]
    }
   ],
   "source": [
    "%%sh\n",
    "mkdir mymodel\n",
    "mv serving.properties mymodel/\n",
    "mv requirements.txt mymodel/\n",
    "tar czvf mymodel.tar.gz mymodel/\n",
    "rm -rf mymodel"
   ]
  },
  {
   "cell_type": "markdown",
   "id": "7fcb318e-bb74-4213-b48f-0faedb6e5075",
   "metadata": {},
   "source": [
    "### Upload artifact on S3 and create SageMaker model"
   ]
  },
  {
   "cell_type": "code",
   "execution_count": 44,
   "id": "38b1e5ca",
   "metadata": {
    "tags": []
   },
   "outputs": [
    {
     "name": "stdout",
     "output_type": "stream",
     "text": [
      "S3 Code or Model tar ball uploaded to --- > s3://sagemaker-us-west-2-831762732388/large-model-lmi/code-Qwen-Qwen3-32B/mymodel.tar.gz\n"
     ]
    }
   ],
   "source": [
    "s3_code_prefix = f\"large-model-lmi/code-{model_lineage}-{model_specific_name}\"\n",
    "bucket = sess.default_bucket()  # bucket to house artifacts\n",
    "code_artifact = sess.upload_data(\"mymodel.tar.gz\", bucket, s3_code_prefix)\n",
    "print(f\"S3 Code or Model tar ball uploaded to --- > {code_artifact}\")"
   ]
  },
  {
   "cell_type": "markdown",
   "id": "2e58cf33",
   "metadata": {},
   "source": [
    "## Step 3: Start building SageMaker endpoint\n",
    "In this step, we will build SageMaker endpoint from scratch"
   ]
  },
  {
   "cell_type": "markdown",
   "id": "4d955679",
   "metadata": {},
   "source": [
    "### Getting the container image URI\n",
    "\n",
    "For more versions or regions, you should checkout [Large Model Inference available DLC](https://github.com/aws/deep-learning-containers/blob/master/available_images.md#large-model-inference-containers)"
   ]
  },
  {
   "cell_type": "code",
   "execution_count": 45,
   "id": "7a174b36",
   "metadata": {
    "tags": []
   },
   "outputs": [],
   "source": [
    "image_uri = \"763104351884.dkr.ecr.us-west-2.amazonaws.com/djl-inference:0.33.0-lmi15.0.0-cu128\"\n",
    "\n",
    "# for China (Beijing) cn-north-1\n",
    "# image_uri = \"727897471807.dkr.ecr.cn-north-1.amazonaws.com.cn/djl-inference:0.33.0-lmi15.0.0-cu128\"\n",
    "\n",
    "# for China (Ningxia) cn-northwest-1\n",
    "# image_uri = \"727897471807.dkr.ecr.cn-northwest-1.amazonaws.com.cn/djl-inference:0.33.0-lmi15.0.0-cu128\""
   ]
  },
  {
   "cell_type": "code",
   "execution_count": 46,
   "id": "02505842-ea34-43dd-8e50-3d0108e4717e",
   "metadata": {
    "tags": []
   },
   "outputs": [],
   "source": [
    "model = Model(image_uri=image_uri, model_data=code_artifact, role=role)"
   ]
  },
  {
   "cell_type": "markdown",
   "id": "004f39f6",
   "metadata": {},
   "source": [
    "## Step4: Create SageMaker endpoint\n",
    "\n",
    "You need to specify the instance to use and endpoint names"
   ]
  },
  {
   "cell_type": "code",
   "execution_count": 47,
   "id": "8e0e61cd",
   "metadata": {
    "tags": []
   },
   "outputs": [
    {
     "name": "stdout",
     "output_type": "stream",
     "text": [
      "----------------------!"
     ]
    }
   ],
   "source": [
    "instance_type = \"ml.g5.48xlarge\"\n",
    "endpoint_name = sagemaker.utils.name_from_base(f\"lmi-model-{model_lineage}-{model_specific_name}\").replace(\".\", \"-\")\n",
    "\n",
    "model.deploy(\n",
    "    initial_instance_count=1,\n",
    "    instance_type=instance_type,\n",
    "    endpoint_name=endpoint_name,\n",
    "    container_startup_health_check_timeout=1800\n",
    ")"
   ]
  },
  {
   "cell_type": "markdown",
   "id": "bb63ee65",
   "metadata": {},
   "source": [
    "## Step 5: Test and benchmark the inference"
   ]
  },
  {
   "cell_type": "markdown",
   "id": "4ef5e1bb-db0e-4b68-b145-42d8df98ff28",
   "metadata": {},
   "source": [
    "### Message API\n",
    "Ref: https://docs.djl.ai/docs/serving/serving/docs/lmi/user_guides/chat_input_output_schema.html#message"
   ]
  },
  {
   "cell_type": "code",
   "execution_count": 51,
   "id": "c6a63ccd-ece4-4376-b8d3-1bcf6ea78385",
   "metadata": {
    "scrolled": true,
    "tags": []
   },
   "outputs": [
    {
     "name": "stdout",
     "output_type": "stream",
     "text": [
      "<think>\n",
      "Okay, the user wants a long story. Let me think about what kind of story to tell. Maybe a fantasy adventure? Those tend to be engaging and allow for a lot of world-building. Let me start by setting up a unique world. Maybe a kingdom with some magical elements.\n",
      "\n",
      "I need a protagonist. Perhaps someone with a unique ability or a quest. Maybe a young character who discovers something important. Let's go with a girl named Elara. She could be a weaver, which gives a creative angle. Her family has a tradition of weaving, but she feels there's more to her destiny.\n",
      "\n",
      "Now, the conflict. Maybe there's a curse or a threat to her kingdom. The Moonweave, a magical fabric that keeps the realm safe, is unraveling. That could tie into her family's skill. The antagonist could be someone or something causing the unraveling. Maybe a shadowy figure named Malakar who wants to destroy the Moonweave to take over the kingdom.\n",
      "\n",
      "I need to include some supporting characters. A mentor figure, perhaps an old friend of her grandmother, a wizard named Thaddeus. Also, companions on her journey. Maybe a rogue named Kael and a warrior named Liora. They can help her on her quest to restore the Moonweave.\n",
      "\n",
      "The story should have a journey with challenges. They might need to find fragments of the original Moonweave or gather magical items. Each challenge tests their resolve and abilities. Maybe they face illusions, traps, and enemies sent by Malakar.\n",
      "\n",
      "The climax would involve a confrontation with Malakar. Elara uses her weaving skills combined with the power of her companions to defeat him. The resolution would be restoring the Moonweave and Elara finding her place as a guardian of the realm.\n",
      "\n",
      "I should make sure the story has emotional depth, showing Elara's growth from a hesitant weaver to a confident hero. Also, include themes of friendship, courage, and the power of creativity. Let me check if there's a good flow and if the elements tie together. Maybe add some magical descriptions to make the world vivid. Okay, that should work. Let me start writing the story with these elements.\n",
      "</think>\n",
      "\n",
      "**Title: The Weaver of Starlight**\n",
      "\n",
      "In the heart of the Enchanted Vale, where rivers sang lullabies and forests whispered secrets, there lay the kingdom of Luminara. Its people thrived under the glow of the Moonweave, a celestial tapestry hung in the night sky by the first weavers. This shimmering fabric of starlight and magic protected the realm, binding light and shadow in harmony. But now, the Moonweave was fraying, and darkness seeped through the holes like ink in water.\n",
      "\n",
      "Elara, a 17-year-old weaver’s apprentice, spent her days in her grandmother’s cottage, threading dyes into silks that seemed to hum with latent magic. Yet her hands itched to create more than mortal cloth. Her grandmother, the last of the Moonweavers, had died mysteriously, leaving Elara a loom of silver threads and a cryptic note: *\"When the sky bleeds shadows, the true weaver must mend what was broken.\"*\n",
      "\n",
      "One twilight, as Elara practiced her craft, a gust of wind carried a shard of the Moonweave into her workshop. It pulsed with dying light, its patterns unraveling. That night, she dreamed of a figure cloaked in void—the Shadow King, Malakar—who had stolen the Loom of Eternity, the divine tool that first wove the Moonweave. With it, he sought to unravel the cosmos itself.\n",
      "\n",
      "Guided by the ghostly voice of her grandmother, Elara fled Luminara, carrying the shard and her loom. Her first ally was Kael, a roguish sky-pirate with a mechanical raven named Corvax, who owed her grandmother a favor. “You’ll need more than pretty threads to fight a god of shadows,” he scoffed, yet his eyes held respect. Next came Liora, a warrior-priestess of the Sunspire Order, whose blade glowed with captured sunlight. “The Moonweave’s fall is our fault,” Liora admitted. “We neglected the balance between light and dark.”\n",
      "\n",
      "Their journey wove through realms both wondrous and perilous. In the Crystal Caves of Echoing Souls, they battled shadow-constructs that fed on fear, Elara weaving temporary patches from her loom to hold back the encroaching void. In the floating city of Zephyria, they bartered with the Wind Sages for a *Thread of Time*, a filament that could pause Malakar’s spells. Each challenge tested them: Kael’s cynicism softened as he saw Elara’s courage, while Liora learned to trust the power of *creation* over destruction.\n",
      "\n",
      "The trio’s bond deepened as they neared the Shadowspire, Malakar’s obsidian fortress. There, they faced their final trial—a labyrinth of illusions. Malakar’s voice taunted Elara: *“You are just a girl with a toy. The Moonweave is beyond your grasp.”* But Elara remembered her grandmother’s words: *“A weaver does not fight shadows; she turns them into light.”* \n",
      "\n",
      "In the heart of the labyrinth, she found the Loom of Eternity, its threads blackened by Malakar’s corruption. The Shadow King emerged, a titan of smoke and malice. “You cannot mend what I have unmade,” he boomed, snapping the Thread of Time. \n",
      "\n",
      "But Elara had one last trick. She wove the shard of Moonweave, the silver threads from her loom, and even Malakar’s own shadow into a new pattern—a tapestry of duality, where light and dark intertwined as equals. The Loom of Eternity shuddered, then erupted with radiant energy. Malakar screamed as his form unraveled, his power absorbed into the tapestry.\n",
      "\n",
      "As dawn broke, Elara ascended to the heavens, the new Moonweaver. The tapestry now bore a fresh constellation—a girl, a rogue, and a warrior, forever entwined. Below, Luminara flourished anew, its people learning that balance, not domination, was the key to harmony.\n",
      "\n",
      "Kael opened a tavern where travelers swapped stories, Liora founded a new order of Lightbearers, and Elara’s legend became a lullaby. Yet in her cottage, her loom still hummed, waiting for the next thread to be woven.\n",
      "\n",
      "**The End… or perhaps, a new beginning?** \n",
      "\n",
      "---\n",
      "\n",
      "This story blends themes of self-discovery, teamwork, and the transformative power of art. Let me know if you'd like a sequel or to explore any character's journey deeper! 🌟TTFT 0.11828303337097168\n",
      "OTPS 35.54581753226153\n"
     ]
    }
   ],
   "source": [
    "import io\n",
    "import time\n",
    "import json\n",
    "import boto3\n",
    "\n",
    "\n",
    "class MessageTokenIterator:\n",
    "    def __init__(self, stream):\n",
    "        self.byte_iterator = iter(stream)\n",
    "        self.buffer = io.BytesIO()\n",
    "        self.read_pos = 0\n",
    "\n",
    "    def __iter__(self):\n",
    "        return self\n",
    "\n",
    "    def __next__(self):\n",
    "        while True:\n",
    "            self.buffer.seek(self.read_pos)\n",
    "            line = self.buffer.readline()\n",
    "\n",
    "            # print(line)\n",
    "            if line and line[-1] == ord(\"\\n\"):\n",
    "                self.read_pos += len(line)\n",
    "                full_line = line[:-1].decode(\"utf-8\")\n",
    "                # print(full_line)\n",
    "                return json.loads(full_line.lstrip(\"data:\").rstrip(\"/n\"))\n",
    "            chunk = next(self.byte_iterator)\n",
    "            self.buffer.seek(0, io.SEEK_END)\n",
    "            self.buffer.write(chunk[\"PayloadPart\"][\"Bytes\"])\n",
    "            \n",
    "prompt = \"tell me a long story.\"\n",
    "messages = [\n",
    "    {\"role\": \"system\", \"content\": \"You are a helpful assistant.\"},\n",
    "    {\"role\": \"user\", \"content\": prompt}\n",
    "]\n",
    "payload = {\n",
    "    \"messages\": messages,\n",
    "    \"max_tokens\": 4096,\n",
    "    \"temperature\": 0.7,\n",
    "    \"top_p\": 0.8,\n",
    "    \"stream\": \"true\"\n",
    "}\n",
    "\n",
    "\n",
    "sagemaker_client = boto3.client(\"sagemaker-runtime\")\n",
    "\n",
    "ttft = 0\n",
    "\n",
    "tic = time.time()\n",
    "\n",
    "response_stream = sagemaker_client.invoke_endpoint_with_response_stream(\n",
    "    EndpointName=endpoint_name,\n",
    "    Body=json.dumps(payload),\n",
    "    ContentType=\"application/json\",\n",
    "    CustomAttributes='accept_eula=false'\n",
    ")\n",
    "\n",
    "num_tokens = 0\n",
    "for data in MessageTokenIterator(response_stream[\"Body\"]):\n",
    "    token = data[\"choices\"][0][\"delta\"].get(\"content\", \"\")\n",
    "    if token and ttft == 0:\n",
    "        ttft = time.time() - tic\n",
    "    print(token, end=\"\")\n",
    "    num_tokens += 1\n",
    "print(\"TTFT\", ttft)\n",
    "print(\"OTPS\", num_tokens / (time.time() - tic))"
   ]
  },
  {
   "cell_type": "markdown",
   "id": "92fe0d25-fbc7-4337-baf4-d6bf76bcc47e",
   "metadata": {},
   "source": [
    "### Tool calling\n",
    "Ref: [https://docs.djl.ai/master/docs/serving/serving/docs/lmi/user_guides/tool_calling.html](https://docs.djl.ai/master/docs/serving/serving/docs/lmi/user_guides/tool_calling.html)"
   ]
  },
  {
   "cell_type": "code",
   "execution_count": 52,
   "id": "aad2325f-0f18-42ae-9657-8059d98e5925",
   "metadata": {
    "tags": []
   },
   "outputs": [
    {
     "name": "stdout",
     "output_type": "stream",
     "text": [
      "{'id': 'chatcmpl-140050616036304', 'object': 'chat.completion', 'created': 1756429402, 'choices': [{'index': 0, 'message': {'role': 'assistant', 'content': \"<think>\\nOkay, the user is asking about the temperature in Dallas in Fahrenheit. Let me check the tools available. There's a function called get_current_weather that requires city, state, and unit. The user provided the city as Dallas and the unit as Fahrenheit. But they didn't mention the state. Dallas is in Texas, so the state abbreviation is TX. I need to make sure to include that. Let me structure the function call with those parameters.\\n</think>\\n\\n\", 'tool_calls': [{'id': 'chatcmpl-tool-dc69a890ebf24289b80889a8f80e003b', 'type': 'function', 'function': {'name': 'get_current_weather', 'arguments': '{\"city\": \"Dallas\", \"state\": \"TX\", \"unit\": \"fahrenheit\"}'}}]}, 'logprobs': None, 'finish_reason': 'tool_calls'}], 'usage': {'prompt_tokens': 293, 'completion_tokens': 128, 'total_tokens': 421}}\n"
     ]
    }
   ],
   "source": [
    "payload =  {\n",
    "    \"messages\": [\n",
    "        {\n",
    "            \"role\": \"user\",\n",
    "            \"content\": \"Hi! How are you doing today?\"\n",
    "        }, \n",
    "        {\n",
    "            \"role\": \"assistant\",\n",
    "            \"content\": \"I'm doing well! How can I help you?\"\n",
    "        }, \n",
    "        {\n",
    "            \"role\": \"user\",\n",
    "            \"content\": \"Can you tell me what the temperate will be in Dallas, in fahrenheit?\"\n",
    "        }\n",
    "    ],\n",
    "    \"tools\": [{\n",
    "        \"type\": \"function\",\n",
    "        \"function\": {\n",
    "            \"name\": \"get_current_weather\",\n",
    "            \"description\": \"Get the current weather in a given location\",\n",
    "            \"parameters\": {\n",
    "                \"type\": \"object\",\n",
    "                \"properties\": {\n",
    "                    \"city\": {\n",
    "                        \"type\":\n",
    "                            \"string\",\n",
    "                        \"description\":\n",
    "                            \"The city to find the weather for, e.g. 'San Francisco'\"\n",
    "                    },\n",
    "                    \"state\": {\n",
    "                        \"type\":\n",
    "                            \"string\",\n",
    "                        \"description\":\n",
    "                            \"the two-letter abbreviation for the state that the city is in, e.g. 'CA' which would mean 'California'\"\n",
    "                    },\n",
    "                    \"unit\": {\n",
    "                        \"type\": \"string\",\n",
    "                        \"description\":\n",
    "                            \"The unit to fetch the temperature in\",\n",
    "                        \"enum\": [\"celsius\", \"fahrenheit\"]\n",
    "                    }\n",
    "                },\n",
    "                \"required\": [\"city\", \"state\", \"unit\"]\n",
    "            }\n",
    "        }\n",
    "    }],\n",
    "}\n",
    "\n",
    "response = sagemaker_client.invoke_endpoint(\n",
    "    EndpointName=endpoint_name,\n",
    "    Body=json.dumps(payload),\n",
    "    ContentType=\"application/json\",\n",
    "    CustomAttributes='accept_eula=false'\n",
    ")\n",
    "\n",
    "print(json.loads(response[\"Body\"].read()))"
   ]
  },
  {
   "cell_type": "markdown",
   "id": "c1cd9042",
   "metadata": {},
   "source": [
    "## Clean up the environment"
   ]
  },
  {
   "cell_type": "code",
   "execution_count": null,
   "id": "3d674b41",
   "metadata": {
    "tags": []
   },
   "outputs": [],
   "source": [
    "sess.delete_endpoint(endpoint_name)\n",
    "sess.delete_endpoint_config(endpoint_name)\n",
    "model.delete_model()"
   ]
  }
 ],
 "metadata": {
  "kernelspec": {
   "display_name": "conda_pytorch_p310",
   "language": "python",
   "name": "conda_pytorch_p310"
  },
  "language_info": {
   "codemirror_mode": {
    "name": "ipython",
    "version": 3
   },
   "file_extension": ".py",
   "mimetype": "text/x-python",
   "name": "python",
   "nbconvert_exporter": "python",
   "pygments_lexer": "ipython3",
   "version": "3.10.18"
  }
 },
 "nbformat": 4,
 "nbformat_minor": 5
}
