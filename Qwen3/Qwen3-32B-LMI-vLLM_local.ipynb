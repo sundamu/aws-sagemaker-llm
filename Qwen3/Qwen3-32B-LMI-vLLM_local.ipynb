{
 "cells": [
  {
   "cell_type": "markdown",
   "id": "da8c354e-8b39-4c1a-a85e-bdfac041365a",
   "metadata": {},
   "source": [
    "# LMI vLLM Qwen3-32B vLLM deployment guide\n",
    "\n",
    "In this tutorial, you will use LMI container from DLC to SageMaker and run inference with it.\n",
    "\n",
    "Please make sure the following permission granted before running the notebook:\n",
    "\n",
    "- S3 bucket push access\n",
    "- SageMaker access\n",
    "\n",
    "## Step 1: Let's bump up SageMaker and import stuff"
   ]
  },
  {
   "cell_type": "code",
   "execution_count": 44,
   "id": "67fa3208",
   "metadata": {
    "tags": []
   },
   "outputs": [],
   "source": [
    "%pip install -U sagemaker"
   ]
  },
  {
   "cell_type": "code",
   "execution_count": 46,
   "id": "ec9ac353",
   "metadata": {
    "tags": []
   },
   "outputs": [],
   "source": [
    "import os\n",
    "from pathlib import Path\n",
    "import boto3\n",
    "import sagemaker\n",
    "from sagemaker import Model, image_uris, serializers, deserializers\n",
    "\n",
    "role = sagemaker.get_execution_role()  # execution role for the endpoint\n",
    "sess = sagemaker.session.Session()  # sagemaker session for interacting with different AWS APIs\n",
    "region = sess._region_name  # region name of the current SageMaker Studio environment\n",
    "account_id = sess.account_id()  # account_id of the current SageMaker Studio environment\n",
    "sagemaker_default_bucket = sess.default_bucket()"
   ]
  },
  {
   "cell_type": "markdown",
   "id": "81deac79",
   "metadata": {},
   "source": [
    "## Step 2: Start preparing model artifacts\n",
    "In LMI contianer, we expect some artifacts to help setting up the model\n",
    "- serving.properties (required): Defines the model server settings\n",
    "- model.py (optional): A python file to define the core inference logic\n",
    "- requirements.txt (optional): Any additional pip wheel need to install"
   ]
  },
  {
   "cell_type": "code",
   "execution_count": 47,
   "id": "31831062-6df7-42f5-9069-b52408695c62",
   "metadata": {
    "tags": []
   },
   "outputs": [],
   "source": [
    "model_name = \"Qwen/Qwen3-32B\"\n",
    "\n",
    "model_lineage = model_name.split(\"/\")[0]\n",
    "model_specific_name = model_name.split(\"/\")[1]\n",
    "\n",
    "s3url = \"s3://sagemaker-us-west-2-831762732388/lmi/Qwen3-32B\""
   ]
  },
  {
   "cell_type": "markdown",
   "id": "7887f5b6-95e8-4e90-9c2c-3df19438fb0f",
   "metadata": {},
   "source": [
    "### Compress model artifacts"
   ]
  },
  {
   "cell_type": "code",
   "execution_count": 48,
   "id": "3d917099-af28-491a-945d-edc71cec1858",
   "metadata": {
    "tags": []
   },
   "outputs": [],
   "source": [
    "with open(\"serving.properties\", \"w\") as wf:\n",
    "    wf.write(f\"\"\"\n",
    "engine=Python\n",
    "option.entryPoint=djl_python.lmi_vllm.vllm_async_service\n",
    "option.model_id={s3url}\n",
    "option.async_mode=true\n",
    "option.tensor_parallel_degree=4\n",
    "option.rolling_batch=disable\n",
    "#option.max_rolling_batch_size=8\n",
    "option.gpu_memory_utilization=0.9\n",
    "option.enable_auto_tool_choice=true\n",
    "option.tool_call_parser=hermes\n",
    "SERVING_FAIL_FAST=true\n",
    "option.enable_prefix_caching=true\n",
    "\"\"\")"
   ]
  },
  {
   "cell_type": "code",
   "execution_count": 49,
   "id": "b0142973",
   "metadata": {
    "tags": []
   },
   "outputs": [
    {
     "name": "stdout",
     "output_type": "stream",
     "text": [
      "mymodel/\n",
      "mymodel/serving.properties\n"
     ]
    }
   ],
   "source": [
    "%%sh\n",
    "mkdir mymodel\n",
    "mv serving.properties mymodel/\n",
    "tar czvf mymodel.tar.gz mymodel/\n",
    "rm -rf mymodel"
   ]
  },
  {
   "cell_type": "markdown",
   "id": "7fcb318e-bb74-4213-b48f-0faedb6e5075",
   "metadata": {},
   "source": [
    "### Upload artifact on S3 and create SageMaker model"
   ]
  },
  {
   "cell_type": "code",
   "execution_count": 50,
   "id": "38b1e5ca",
   "metadata": {
    "tags": []
   },
   "outputs": [
    {
     "name": "stdout",
     "output_type": "stream",
     "text": [
      "S3 Code or Model tar ball uploaded to --- > s3://sagemaker-us-west-2-831762732388/large-model-lmi/code-Qwen-Qwen3-32B/mymodel.tar.gz\n"
     ]
    }
   ],
   "source": [
    "s3_code_prefix = \"large-model-lmi/code-Qwen-Qwen3-32B\"\n",
    "\n",
    "bucketName = sess.default_bucket()  # bucket to house artifacts\n",
    "\n",
    "code_artifact = sess.upload_data(\"mymodel.tar.gz\", bucketName, s3_code_prefix)\n",
    "\n",
    "print(f\"S3 Code or Model tar ball uploaded to --- > {code_artifact}\")"
   ]
  },
  {
   "cell_type": "markdown",
   "id": "2e58cf33",
   "metadata": {},
   "source": [
    "## Step 3: Start building SageMaker endpoint\n",
    "In this step, we will build SageMaker endpoint from scratch"
   ]
  },
  {
   "cell_type": "markdown",
   "id": "4d955679",
   "metadata": {},
   "source": [
    "### Getting the container image URI\n",
    "\n",
    "For more versions or regions, you should checkout [Large Model Inference available DLC](https://github.com/aws/deep-learning-containers/blob/master/available_images.md#large-model-inference-containers)"
   ]
  },
  {
   "cell_type": "code",
   "execution_count": 51,
   "id": "7a174b36",
   "metadata": {
    "tags": []
   },
   "outputs": [],
   "source": [
    "image_uri = \"763104351884.dkr.ecr.us-west-2.amazonaws.com/djl-inference:0.34.0-lmi16.0.0-cu128-v1.2\"\n",
    "\n",
    "# for China (Beijing) cn-north-1\n",
    "# image_uri = \"727897471807.dkr.ecr.cn-north-1.amazonaws.com.cn/djl-inference:0.34.0-lmi16.0.0-cu128-v1.2\"\n",
    "\n",
    "# for China (Ningxia) cn-northwest-1\n",
    "# image_uri = \"727897471807.dkr.ecr.cn-northwest-1.amazonaws.com.cn/djl-inference:0.34.0-lmi16.0.0-cu128-v1.2\""
   ]
  },
  {
   "cell_type": "code",
   "execution_count": 52,
   "id": "02505842-ea34-43dd-8e50-3d0108e4717e",
   "metadata": {
    "tags": []
   },
   "outputs": [],
   "source": [
    "model = Model(image_uri=image_uri, model_data=code_artifact, role=role)"
   ]
  },
  {
   "cell_type": "markdown",
   "id": "004f39f6",
   "metadata": {},
   "source": [
    "## Step4: Create SageMaker endpoint\n",
    "\n",
    "You need to specify the instance to use and endpoint names"
   ]
  },
  {
   "cell_type": "code",
   "execution_count": null,
   "id": "8e0e61cd",
   "metadata": {
    "tags": []
   },
   "outputs": [
    {
     "name": "stdout",
     "output_type": "stream",
     "text": [
      "------------------------!"
     ]
    }
   ],
   "source": [
    "instance_type = \"ml.g5.48xlarge\"\n",
    "endpoint_name = sagemaker.utils.name_from_base(f\"lmi-model-{model_lineage}-{model_specific_name}\").replace(\".\", \"-\")\n",
    "\n",
    "model.deploy(\n",
    "    initial_instance_count=1,\n",
    "    instance_type=instance_type,\n",
    "    endpoint_name=endpoint_name,\n",
    "    container_startup_health_check_timeout=1800\n",
    ")"
   ]
  },
  {
   "cell_type": "markdown",
   "id": "bb63ee65",
   "metadata": {},
   "source": [
    "## Step 5: Test and benchmark the inference"
   ]
  },
  {
   "cell_type": "code",
   "execution_count": 54,
   "id": "c6a63ccd-ece4-4376-b8d3-1bcf6ea78385",
   "metadata": {
    "scrolled": true,
    "tags": []
   },
   "outputs": [
    {
     "name": "stdout",
     "output_type": "stream",
     "text": [
      "\n",
      ", user wants a long story. Let me think about what kind of story would be engaging. Maybe a fantasy adventure with some depth. I should create a unique world with interesting characters. Let me start by setting up a mystical land with some conflict. Maybe a hero's journey? That structure usually works well.\n",
      "\n",
      "First, I need a setting. Let's go with a place called Elyndor, a realm where magic and nature are intertwined. There's a threat to the balance, maybe a dark force. The protagonist could be someone ordinary who discovers they have a special role. Let's name her Lira. She's a young woman living in a village near an ancient forest. \n",
      "\n",
      "Introduce some magical elements. The forest, Sylwen, is alive and sentient. The elders speak of a time when the forest and sky were connected through the Celestial Tree. Now, the connection is broken, causing chaos. Lira has a connection to this tree through her lineage. Maybe she finds a pendant that's a key to restoring the connection.\n",
      "\n",
      "Conflict arises when a dark entity, Malakar, starts corrupting the land. Lira must journey to find the Celestial Tree and restore the balance. She meets companions along the way: a rogue named Kael, a warrior named Thorne, and a mystical creature like a fox spirit named Nyx. Each companion has their own backstory and motivations.\n",
      "\n",
      "The journey should have challenges: magical creatures, treacherous terrain, and moral dilemmas. Maybe Lira has to confront her past and her family's secret. The climax could involve a battle with Malakar and a sacrifice. In the end, Lira succeeds in restoring the connection, but at a personal cost. The story ends with hope for the future of Elyndor.\n",
      "\n",
      "I need to make sure the story flows well, with descriptive settings and character development. Add some themes like sacrifice, friendship, and the balance between nature and humanity. Let me start writing the story with these elements, making sure it's long enough but not too convoluted. Check for consistency in the plot and ensure each character's role is clear. Maybe include some twists, like Kael having a hidden agenda or Nyx being a guardian of the tree. Okay, let's put it all together.\n",
      "</think>\n",
      "\n",
      "**Title: The Song of the Celestial Tree**\n",
      "\n",
      "In the realm of Elyndor, where rivers sang lullabies and mountains whispered secrets, the land thrived in harmony under the watchful eyes of the Celestial Tree. This ancient being, whose roots plunged into the earth and branches brushed the stars, once bridged the realms of mortals and the divine. But centuries ago, the Tree was sundered, its heart stolen by the shadowy entity Malakar, who sought to devour the light. Without its song, the seasons grew erratic, the skies wept acid rain, and the forests withered at the edges.\n",
      "\n",
      "In the village of Bramblebrook, nestled at the fringes of the sentient Sylwen Forest, lived Lira, a weaver with hands as steady as her spirit was restless. Her mother had died under a blood-red moon, clutching a pendant shaped like a leaf—a relic Lira had never dared wear, fearing its whispers of a destiny she didn’t understand. The village elders dismissed it as a trinket, but the trees of Sylwen would hum when she passed, their leaves trembling as if in recognition.\n",
      "\n",
      "**The Call to Adventure**  \n",
      "One autumn, the blight reached Bramblebrook. Crops blackened, and the air grew thick with a choking mist. Desperate, Lira ventured into Sylwen, where the trees turned from emerald to skeletal. Deep within, she found the Heartroot, a spring that mirrored her soul. As she knelt, the water surged, revealing a vision: Malakar’s armies of obsidian wolves and thorn-golems marching toward the village. The pendant around her neck flared, and a voice—old as the stars—urged, *“Find the Tree, or all shall fade to shadow.”*\n",
      "\n",
      "**The Companions**  \n",
      "Lira’s journey began with a thief named Kael, who’d been hiding from his past as a smuggler in the port city of Driftspire. He’d stolen the pendant years prior, only to be haunted by dreams of a girl in a storm. When Lira confronted him, he chose to aid her, though his motives remained a riddle. Their path crossed next with Thorne, a disgraced knight exiled for defying the iron-fisted King Varyn, who’d outlawed magic. Thorne carried a sword forged from fallen starlight, its blade dim without the Celestial Tree’s song.\n",
      "\n",
      "Lastly, there was Nyx, a fox-spirit with fur like moonlit snow and eyes that held galaxies. Nyx claimed to be a guardian of the Tree, but her cryptic warnings and sudden disappearances made the group wary. “The Tree is not what you think,” she’d say, before vanishing into the mist.\n",
      "\n",
      "**Trials and Bonds**  \n",
      "The quest tested them. In the Ashen Wastes, they battled a sand-serpent whose scales drank light, forcing Lira to sing an a capella hymn her mother had taught her—a melody that resonated with the pendant. In the Crystal Caves, Thorne sacrificed his sword to seal a chasm swallowing their path, while Kael’s quick thinking saved Lira from a trap set by the king’s spies. Nyx, meanwhile, grew more solemn, often lingering near ruins etched with warnings: *“The Tree feeds on sacrifice.”*\n",
      "\n",
      "Tensions flared as trust wavered. Kael confessed he’d once betrayed a friend for gold, and Thorne revealed he’d killed a sorcerer who’d tried to destroy the Heartroot. Lira, meanwhile, uncovered her mother’s journal, learning she’d been a *Lumenara*, a keeper of the Tree’s song. The pendant was a key—but using it would require a price.\n",
      "\n",
      "**The Truth Unveiled**  \n",
      "They reached the Tree’s remnants in the Valley of Echoes: a hollow husk, its branches clawing at the sky. Malakar’s voice slithered through the wind, taunting Lira. “The Tree is dead. Its power is *mine*.” Yet as Lira placed the pendant on the Tree’s scarred trunk, it pulsed, revealing a terrible truth: the Tree was never a singular entity. It was a *choice*, a bond between Elyndor’s people and the land. Its heart had never been stolen—it had *left*, waiting for someone to rekindle the pact.\n",
      "\n",
      "**The Sacrifice**  \n",
      "Malakar descended, a storm of teeth and malice. The companions fought valiantly: Thorne’s sword flared anew, Kael used his thievery skills to sabotage the dark entity’s anchors, and Nyx channeled the Tree’s fading magic. But only Lira could restore it. The pendant demanded a sacrifice—her voice, the source of the Tree’s song. To sing, she’d have to surrender her ability to speak, her memories, and her life as she knew it.\n",
      "\n",
      "As Malakar’s jaws closed in, Lira sang. The melody was her mother’s lullaby, her own fears, her friends’ laughter—all woven into a symphony. The Tree bloomed, roots surging to heal the land, its branches stitching the sky with constellations. Malakar dissolved into stardust, screaming.\n",
      "\n",
      "**Epilogue: A New Dawn**  \n",
      "The world changed. Seasons returned, the blight receded, and Sylwen’s trees danced with light. Lira, now mute and her memories hazy, remained in Bramblebrook, her hands still weaving—but now, her tapestries shimmered with magic. Kael became a wanderer, using his skills to protect the vulnerable. Thorne returned to the king, not as a pawn but as a voice for magic’s place in the realm. Nyx vanished, though some say she watches over the reborn Tree, her laughter echoing in the wind.\n",
      "\n",
      "And high above, where the Tree’s new heart glows, travelers swear they hear a song—soft, aching, and full of hope. A reminder that balance is not a given, but a song we must all sing together.\n",
      "\n",
      "**The End.**  \n",
      "\n",
      "---  \n",
      "This tale blends themes of sacrifice, redemption, and the fragile balance between humanity and nature. Let me know if you'd like a sequel or deeper dives into any characters! 🌟\n",
      "\n",
      "Metrics:\n",
      "Time to First Token (TTFT): 0.89 seconds\n",
      "Total Tokens Generated: 1789\n",
      "Total Latency: 80.53 seconds\n",
      "Tokens per second: 22.22\n"
     ]
    }
   ],
   "source": [
    "import time\n",
    "import json\n",
    "import boto3\n",
    "\n",
    "first_token_received = False\n",
    "ttft = 0\n",
    "token_count = 0\n",
    "\n",
    "prompt = \"tell me a long story.\"\n",
    "messages = [\n",
    "    {\"role\": \"system\", \"content\": \"You are a helpful assistant.\"},\n",
    "    {\"role\": \"user\", \"content\": prompt}\n",
    "]\n",
    "payload = {\n",
    "    \"messages\": messages,\n",
    "    \"max_tokens\": 4096,\n",
    "    \"temperature\": 0.7,\n",
    "    \"top_p\": 0.8,\n",
    "    \"stream\": \"true\",\n",
    "    #\"chat_template_kwargs\": {\"enable_thinking\": False},\n",
    "}\n",
    "\n",
    "# Create SageMaker Runtime client\n",
    "sagemaker_runtime_client = boto3.client(\"sagemaker-runtime\")\n",
    "\n",
    "start_time = time.time()\n",
    "\n",
    "# Invoke the model\n",
    "response_stream = sagemaker_runtime_client.invoke_endpoint_with_response_stream(\n",
    "    EndpointName=endpoint_name,\n",
    "    Body=json.dumps(payload),\n",
    "    ContentType=\"application/json\",\n",
    "    CustomAttributes='accept_eula=false'\n",
    ")\n",
    "\n",
    "for event in response_stream['Body']:\n",
    "    if 'PayloadPart' in event:\n",
    "        chunk = event['PayloadPart']['Bytes'].decode()\n",
    "        try:\n",
    "            # Handle SSE format (data: prefix)\n",
    "            if chunk.startswith('data: '):\n",
    "                data = json.loads(chunk[6:])  # Skip \"data: \" prefix\n",
    "            else:\n",
    "                data = json.loads(chunk)\n",
    "            # Extract token based on OpenAI format\n",
    "            if 'choices' in data and len(data['choices']) > 0:\n",
    "                if 'delta' in data['choices'][0] and 'content' in data['choices'][0]['delta']:\n",
    "                    token_count += 1\n",
    "                    token_text = data['choices'][0]['delta']['content']\n",
    "                    # Record time to first token\n",
    "                    if not first_token_received:\n",
    "                        ttft = time.time() - start_time\n",
    "                        first_token_received = True\n",
    "                    print(token_text, end='', flush=True)\n",
    "        \n",
    "        except json.JSONDecodeError:\n",
    "            continue\n",
    "            \n",
    "# Print metrics after completion\n",
    "end_time = time.time()\n",
    "total_latency = end_time - start_time\n",
    "\n",
    "print(\"\\n\\nMetrics:\")\n",
    "print(f\"Time to First Token (TTFT): {ttft:.2f} seconds\" if ttft else \"TTFT: N/A\")\n",
    "print(f\"Total Tokens Generated: {token_count}\")\n",
    "print(f\"Total Latency: {total_latency:.2f} seconds\")\n",
    "if token_count > 0 and total_latency > 0:\n",
    "    print(f\"Tokens per second: {token_count/total_latency:.2f}\")"
   ]
  },
  {
   "cell_type": "markdown",
   "id": "92fe0d25-fbc7-4337-baf4-d6bf76bcc47e",
   "metadata": {},
   "source": [
    "### Tool calling\n",
    "Ref: [https://docs.djl.ai/master/docs/serving/serving/docs/lmi/user_guides/tool_calling.html](https://docs.djl.ai/master/docs/serving/serving/docs/lmi/user_guides/tool_calling.html)"
   ]
  },
  {
   "cell_type": "code",
   "execution_count": 56,
   "id": "aad2325f-0f18-42ae-9657-8059d98e5925",
   "metadata": {
    "tags": []
   },
   "outputs": [
    {
     "name": "stdout",
     "output_type": "stream",
     "text": [
      "{'id': 'chatcmpl-21b54e712f334f33a6623b9a60f7e789', 'object': 'chat.completion', 'created': 1761873507, 'model': 'lmi', 'choices': [{'index': 0, 'message': {'role': 'assistant', 'content': \"<think>\\nOkay, the user is asking for the temperature in Dallas in Fahrenheit. Let me check the tools available. There's a function called get_current_weather that requires city, state, and unit. The user mentioned Dallas, so the city is Dallas. The state for Dallas is Texas, which is abbreviated as TX. The unit they want is Fahrenheit. So I need to call the get_current_weather function with city: Dallas, state: TX, unit: fahrenheit. Let me make sure all required parameters are included. Yes, city, state, and unit are all there. Alright, I'll structure the tool call accordingly.\\n</think>\\n\\n\", 'refusal': None, 'annotations': None, 'audio': None, 'function_call': None, 'tool_calls': [{'id': 'chatcmpl-tool-d75310c1346d4e78998fb217ef53beb3', 'type': 'function', 'function': {'name': 'get_current_weather', 'arguments': '{\"city\": \"Dallas\", \"state\": \"TX\", \"unit\": \"fahrenheit\"}'}}], 'reasoning_content': None}, 'logprobs': None, 'finish_reason': 'tool_calls', 'stop_reason': None, 'token_ids': None}], 'service_tier': None, 'system_fingerprint': None, 'usage': {'prompt_tokens': 293, 'total_tokens': 456, 'completion_tokens': 163, 'prompt_tokens_details': None}, 'prompt_logprobs': None, 'prompt_token_ids': None, 'kv_transfer_params': None}\n"
     ]
    }
   ],
   "source": [
    "import json\n",
    "import boto3\n",
    "\n",
    "# Create SageMaker Runtime client\n",
    "sagemaker_runtime_client = boto3.client(\"sagemaker-runtime\")\n",
    "\n",
    "payload =  {\n",
    "    \"messages\": [\n",
    "        {\n",
    "            \"role\": \"user\",\n",
    "            \"content\": \"Hi! How are you doing today?\"\n",
    "        }, \n",
    "        {\n",
    "            \"role\": \"assistant\",\n",
    "            \"content\": \"I'm doing well! How can I help you?\"\n",
    "        }, \n",
    "        {\n",
    "            \"role\": \"user\",\n",
    "            \"content\": \"Can you tell me what the temperate will be in Dallas, in fahrenheit?\"\n",
    "        }\n",
    "    ],\n",
    "    \"tools\": [{\n",
    "        \"type\": \"function\",\n",
    "        \"function\": {\n",
    "            \"name\": \"get_current_weather\",\n",
    "            \"description\": \"Get the current weather in a given location\",\n",
    "            \"parameters\": {\n",
    "                \"type\": \"object\",\n",
    "                \"properties\": {\n",
    "                    \"city\": {\n",
    "                        \"type\":\n",
    "                            \"string\",\n",
    "                        \"description\":\n",
    "                            \"The city to find the weather for, e.g. 'San Francisco'\"\n",
    "                    },\n",
    "                    \"state\": {\n",
    "                        \"type\":\n",
    "                            \"string\",\n",
    "                        \"description\":\n",
    "                            \"the two-letter abbreviation for the state that the city is in, e.g. 'CA' which would mean 'California'\"\n",
    "                    },\n",
    "                    \"unit\": {\n",
    "                        \"type\": \"string\",\n",
    "                        \"description\":\n",
    "                            \"The unit to fetch the temperature in\",\n",
    "                        \"enum\": [\"celsius\", \"fahrenheit\"]\n",
    "                    }\n",
    "                },\n",
    "                \"required\": [\"city\", \"state\", \"unit\"]\n",
    "            }\n",
    "        }\n",
    "    }],\n",
    "}\n",
    "\n",
    "response = sagemaker_runtime_client.invoke_endpoint(\n",
    "    EndpointName=endpoint_name,\n",
    "    Body=json.dumps(payload),\n",
    "    ContentType=\"application/json\",\n",
    "    CustomAttributes='accept_eula=false'\n",
    ")\n",
    "\n",
    "print(json.loads(response[\"Body\"].read()))"
   ]
  },
  {
   "cell_type": "markdown",
   "id": "c1cd9042",
   "metadata": {},
   "source": [
    "## Clean up the environment"
   ]
  },
  {
   "cell_type": "code",
   "execution_count": null,
   "id": "3d674b41",
   "metadata": {
    "tags": []
   },
   "outputs": [],
   "source": [
    "sess.delete_endpoint(endpoint_name)\n",
    "sess.delete_endpoint_config(endpoint_name)\n",
    "model.delete_model()"
   ]
  }
 ],
 "metadata": {
  "kernelspec": {
   "display_name": "conda_pytorch_p310",
   "language": "python",
   "name": "conda_pytorch_p310"
  },
  "language_info": {
   "codemirror_mode": {
    "name": "ipython",
    "version": 3
   },
   "file_extension": ".py",
   "mimetype": "text/x-python",
   "name": "python",
   "nbconvert_exporter": "python",
   "pygments_lexer": "ipython3",
   "version": "3.10.18"
  }
 },
 "nbformat": 4,
 "nbformat_minor": 5
}
