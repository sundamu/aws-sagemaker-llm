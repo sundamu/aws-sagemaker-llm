{
 "cells": [
  {
   "cell_type": "code",
   "execution_count": 16,
   "id": "63d4b444-6c9e-4226-856d-ca9cefd6c00b",
   "metadata": {},
   "outputs": [],
   "source": [
    "!rm -rf code && mkdir code"
   ]
  },
  {
   "cell_type": "code",
   "execution_count": 17,
   "id": "938437c5-4d1e-4549-b008-fca292ff0afa",
   "metadata": {
    "tags": []
   },
   "outputs": [
    {
     "name": "stdout",
     "output_type": "stream",
     "text": [
      "Writing code/requirements.txt\n"
     ]
    }
   ],
   "source": [
    "%%writefile code/requirements.txt\n",
    "-i https://pypi.tuna.tsinghua.edu.cn/simple\n",
    "diffusers\n",
    "ftfy\n",
    "spacy\n",
    "boto3\n",
    "sagemaker\n",
    "nvgpu\n",
    "sentencepiece\n",
    "protobuf>=3.19.5,<3.20.1\n",
    "transformers==4.32.0\n",
    "icetk\n",
    "cpm_kernels\n",
    "accelerate\n",
    "colorama\n",
    "bitsandbytes\n",
    "transformers_stream_generator\n",
    "xformers"
   ]
  },
  {
   "cell_type": "code",
   "execution_count": 18,
   "id": "87518e1b-7c32-4768-909c-0ecce09b1f17",
   "metadata": {},
   "outputs": [
    {
     "name": "stdout",
     "output_type": "stream",
     "text": [
      "Writing code/inference.py\n"
     ]
    }
   ],
   "source": [
    "%%writefile code/inference.py\n",
    "import os\n",
    "import json\n",
    "import uuid\n",
    "import io\n",
    "import sys\n",
    "import traceback\n",
    "\n",
    "from PIL import Image\n",
    "\n",
    "import requests\n",
    "import boto3\n",
    "import sagemaker\n",
    "import torch\n",
    "import shutil\n",
    "\n",
    "from torch import autocast\n",
    "from transformers import AutoTokenizer, AutoModelForCausalLM\n",
    "from transformers.generation.utils import GenerationConfig\n",
    "\n",
    "\n",
    "LLM_NAME = \"/opt/amazon/var/run/baichuan2\"\n",
    "\n",
    "if os.path.exists(LLM_NAME):\n",
    "    shutil.rmtree(LLM_NAME) \n",
    "\n",
    "os.mkdir(LLM_NAME)\n",
    "\n",
    "#替换成自己的S3模型路径\n",
    "s3_location = \"s3://sagemaker-cn-north-1-086238767671/baichuan/Baichuan2-13B-Chat-4bits/\"\n",
    "os.system(f\"aws s3 cp {s3_location} {LLM_NAME} --recursive\")\n",
    "\n",
    "tokenizer = AutoTokenizer.from_pretrained(LLM_NAME, trust_remote_code=True)\n",
    "\n",
    "\n",
    "def preprocess(text):\n",
    "    text = text.replace(\"\\n\", \"\\\\n\").replace(\"\\t\", \"\\\\t\")\n",
    "    return text\n",
    "\n",
    "def postprocess(text):\n",
    "    return text.replace(\"\\\\n\", \"\\n\").replace(\"\\\\t\", \"\\t\")\n",
    "\n",
    "def answer(text, sample=True, top_p=0.45, temperature=0.01, model=None):\n",
    "    text = preprocess(text)\n",
    "    messages = []\n",
    "    messages.append({\"role\": \"user\", \"content\": text})\n",
    "    response = model.chat(tokenizer, messages)\n",
    "        \n",
    "    return postprocess(response)\n",
    "\n",
    "\n",
    "def model_fn(model_dir):\n",
    "    \"\"\"\n",
    "    Load the model for inference\n",
    "    \n",
    "    \"\"\"\n",
    "    print(\"=================model_fn_Start=================\")\n",
    "    model = AutoModelForCausalLM.from_pretrained(LLM_NAME, device_map=\"auto\", trust_remote_code=True)\n",
    "    model.generation_config = GenerationConfig.from_pretrained(LLM_NAME)\n",
    "    print(\"=================model_fn_End=================\")\n",
    "    return model\n",
    "\n",
    "\n",
    "def input_fn(request_body, request_content_type):\n",
    "    \"\"\"\n",
    "    Deserialize and prepare the prediction input\n",
    "    \"\"\"\n",
    "    # {\n",
    "    # \"ask\": \"写一个文章，题目是未来城市\"\n",
    "    # }\n",
    "    print(f\"=================input_fn=================\\n{request_content_type}\\n{request_body}\")\n",
    "    input_data = json.loads(request_body)\n",
    "    if 'ask' not in input_data:\n",
    "        input_data['ask']=\"写一个文章，题目是未来城市\"\n",
    "    return input_data\n",
    "\n",
    "\n",
    "def predict_fn(input_data, model):\n",
    "    \"\"\"\n",
    "    Apply model to the incoming request\n",
    "    \"\"\"\n",
    "    print(\"=================predict_fn=================\")\n",
    "   \n",
    "    print('input_data: ', input_data)\n",
    "    \n",
    "\n",
    "    try:\n",
    "        #if 'history' not in input_data:\n",
    "        #    history = []\n",
    "        #else:\n",
    "        #    history = input_data['history']\n",
    "        if 'temperature' not in input_data:\n",
    "            temperature = 0.01\n",
    "        else:\n",
    "            temperature = input_data['temperature']\n",
    "        #result, history = answer(input_data['ask'], history=history, model=model)\n",
    "        result = answer(input_data['ask'], model=model)\n",
    "        print(f'====result {result}====')\n",
    "        return result\n",
    "        \n",
    "    except Exception as ex:\n",
    "        traceback.print_exc(file=sys.stdout)\n",
    "        print(f\"=================Exception================={ex}\")\n",
    "\n",
    "    return 'Not found answer'\n",
    "\n",
    "\n",
    "def output_fn(prediction, content_type):\n",
    "    \"\"\"\n",
    "    Serialize and prepare the prediction output\n",
    "    \"\"\"\n",
    "    print(content_type)\n",
    "    return json.dumps(\n",
    "        {\n",
    "            'answer': prediction\n",
    "        }\n",
    "    )"
   ]
  },
  {
   "cell_type": "code",
   "execution_count": 19,
   "id": "76deb1bf-fece-45b2-8c0c-ab204fb5a3b5",
   "metadata": {
    "tags": []
   },
   "outputs": [
    {
     "name": "stdout",
     "output_type": "stream",
     "text": [
      "sagemaker.config INFO - Not applying SDK defaults from location: /etc/xdg/sagemaker/config.yaml\n",
      "sagemaker.config INFO - Not applying SDK defaults from location: /home/ec2-user/.config/sagemaker/config.yaml\n",
      "sagemaker.config INFO - Not applying SDK defaults from location: /etc/xdg/sagemaker/config.yaml\n",
      "sagemaker.config INFO - Not applying SDK defaults from location: /home/ec2-user/.config/sagemaker/config.yaml\n",
      "arn:aws-cn:iam::086238767671:role/NotebookStack-SmartSearchNotebookRole6F6BB12B-1N9S5RYMN3KUG\n",
      "sagemaker-cn-north-1-086238767671\n",
      "cn-north-1\n",
      "dummy\n",
      "upload: ./model.tar.gz to s3://sagemaker-cn-north-1-086238767671/llm_baichuan2_13b-chat-4bits/assets/model.tar.gz\n",
      "sagemaker.config INFO - Not applying SDK defaults from location: /etc/xdg/sagemaker/config.yaml\n",
      "sagemaker.config INFO - Not applying SDK defaults from location: /home/ec2-user/.config/sagemaker/config.yaml\n",
      "sagemaker.config INFO - Not applying SDK defaults from location: /etc/xdg/sagemaker/config.yaml\n",
      "sagemaker.config INFO - Not applying SDK defaults from location: /home/ec2-user/.config/sagemaker/config.yaml\n",
      "------------!"
     ]
    }
   ],
   "source": [
    "import boto3\n",
    "import sagemaker\n",
    "\n",
    "account_id = boto3.client('sts').get_caller_identity().get('Account')\n",
    "region_name = boto3.session.Session().region_name\n",
    "\n",
    "sagemaker_session = sagemaker.Session()\n",
    "bucket = sagemaker_session.default_bucket()\n",
    "role = sagemaker.get_execution_role()\n",
    "\n",
    "print(role)\n",
    "print(bucket)\n",
    "print(region_name)\n",
    "\n",
    "!touch dummy\n",
    "!tar czvf model.tar.gz dummy\n",
    "assets_dir = 's3://{0}/{1}/assets/'.format(bucket, 'llm_baichuan2_13b-chat-4bits')\n",
    "model_data = 's3://{0}/{1}/assets/model.tar.gz'.format(bucket, 'llm_baichuan2_13b-chat-4bits')\n",
    "!aws s3 cp model.tar.gz $assets_dir\n",
    "!rm -f dummy model.tar.gz\n",
    "\n",
    "model_name = None\n",
    "entry_point = 'inference.py'\n",
    "framework_version = '2.0.1'\n",
    "py_version = 'py310'\n",
    "model_environment = {\n",
    "    'SAGEMAKER_MODEL_SERVER_TIMEOUT':'600', \n",
    "    'SAGEMAKER_MODEL_SERVER_WORKERS':'1', \n",
    "}\n",
    "\n",
    "from sagemaker.pytorch.model import PyTorchModel\n",
    "\n",
    "model = PyTorchModel(\n",
    "    name = model_name,\n",
    "    model_data = model_data,\n",
    "    entry_point = entry_point,\n",
    "    source_dir = './code',\n",
    "    role = role,\n",
    "    framework_version = framework_version, \n",
    "    py_version = py_version,\n",
    "    env = model_environment\n",
    ")\n",
    "\n",
    "endpoint_name = 'pytorch-inference-baichuan2'\n",
    "# instance_type = 'ml.p3.2xlarge'\n",
    "instance_type='ml.g4dn.2xlarge' \n",
    "\n",
    "instance_count = 1\n",
    "\n",
    "from sagemaker.serializers import JSONSerializer\n",
    "from sagemaker.deserializers import JSONDeserializer\n",
    "predictor = model.deploy(\n",
    "    endpoint_name = endpoint_name,\n",
    "    instance_type = instance_type, \n",
    "    initial_instance_count = instance_count,\n",
    "    serializer = JSONSerializer(),\n",
    "    deserializer = JSONDeserializer()\n",
    ")"
   ]
  },
  {
   "cell_type": "code",
   "execution_count": null,
   "id": "74006b40",
   "metadata": {},
   "outputs": [],
   "source": [
    "### 创建阶段，等待10分钟，期间可以查看CloudWatch日志有无异常"
   ]
  },
  {
   "cell_type": "code",
   "execution_count": 22,
   "id": "8e48e6e1",
   "metadata": {
    "tags": []
   },
   "outputs": [
    {
     "name": "stdout",
     "output_type": "stream",
     "text": [
      "你好！今天我能为您提供什么帮助？\n"
     ]
    }
   ],
   "source": [
    "inputs= {\n",
    "    \"ask\":'你好'\n",
    "\n",
    "}\n",
    "\n",
    "response = predictor.predict(inputs)\n",
    "print(response[\"answer\"])\n"
   ]
  },
  {
   "cell_type": "markdown",
   "id": "1c2dcc6a",
   "metadata": {},
   "source": [
    "### 删除SageMaker  Endpoint\n",
    "删除推理服务"
   ]
  },
  {
   "cell_type": "code",
   "execution_count": null,
   "id": "c329e2d3",
   "metadata": {},
   "outputs": [],
   "source": [
    "#predictor.delete_endpoint()"
   ]
  }
 ],
 "metadata": {
  "kernelspec": {
   "display_name": "conda_python3",
   "language": "python",
   "name": "conda_python3"
  },
  "language_info": {
   "codemirror_mode": {
    "name": "ipython",
    "version": 3
   },
   "file_extension": ".py",
   "mimetype": "text/x-python",
   "name": "python",
   "nbconvert_exporter": "python",
   "pygments_lexer": "ipython3",
   "version": "3.10.12"
  }
 },
 "nbformat": 4,
 "nbformat_minor": 5
}
